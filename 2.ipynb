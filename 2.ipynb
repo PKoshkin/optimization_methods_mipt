{
 "cells": [
  {
   "cell_type": "code",
   "execution_count": 1,
   "metadata": {
    "collapsed": false
   },
   "outputs": [],
   "source": [
    "import numpy.random as rand\n",
    "import matplotlib.pyplot as plot\n",
    "import numpy as numpy\n",
    "from scipy.optimize import linprog\n",
    "from numpy import linalg\n",
    "%matplotlib inline"
   ]
  },
  {
   "cell_type": "markdown",
   "metadata": {},
   "source": [
    "Покажем, что если алгоритм сходится, то он сходится к решению задачи ЛП при $\\mu\\to0$. Действительно, По теореме о комплиментарной фиктивности условия $X^*Y_s^*1 = 0$ и $Y^*X^*_s1 = 0$ являются критерием того, что допустимая точка $x^*, x_s^*, y^*, y_s^*$ - решение задачи. Но при $\\mu\\to0$, так же и $X^kY_s^k1\\to0$ и $Y^kX_s^k1\\to0$, а следовательно $(x^k, x_s^k, y^k, y_s^k)\\to(x^*, x_s^*, y^*, y_s^*)$\n",
    "\n",
    "Для решения уравнения $F(x, x_s, y, y_s)=0$ воспользуемся методом Ньютона. Для этого требуется посчитать матрицу якоби $F$\n",
    "\n",
    "$$\n",
    "J=\\begin{pmatrix}\n",
    "A&E&0&0\\\\\n",
    "0&0&A^T&-E\\\\\n",
    "Y_s&0&0&X\\\\\n",
    "0&Y&X_s&0\n",
    "\\end{pmatrix}\n",
    "$$"
   ]
  },
  {
   "cell_type": "code",
   "execution_count": 2,
   "metadata": {
    "collapsed": true
   },
   "outputs": [],
   "source": [
    "def jacobian(A, x, x_s, y, y_s):\n",
    "    n = len(x)\n",
    "    m = len(y)\n",
    "    columns = [\n",
    "        numpy.concatenate([A, numpy.zeros([n, n]), numpy.diag(y_s), numpy.zeros([m, n])], 0),\n",
    "        numpy.concatenate([numpy.eye(m), numpy.zeros([2 * n, m]), numpy.diag(y)], 0),\n",
    "        numpy.concatenate([numpy.zeros([m, m]), A.T, numpy.zeros([n, m]), numpy.diag(x_s)], 0),\n",
    "        numpy.concatenate([numpy.zeros([m, n]), -numpy.eye(n), numpy.diag(x), numpy.zeros([m, n])], 0)\n",
    "    ]\n",
    "    return numpy.concatenate(columns, 1)"
   ]
  },
  {
   "cell_type": "code",
   "execution_count": 3,
   "metadata": {
    "collapsed": true
   },
   "outputs": [],
   "source": [
    "# Вспомогательная фукция\n",
    "def has_negative(array):\n",
    "    for element in array:\n",
    "        if element < 0:\n",
    "            return True\n",
    "    return False"
   ]
  },
  {
   "cell_type": "markdown",
   "metadata": {},
   "source": [
    "Для того, чтобы не выходить за пределы положительных переменных в итерационном процессе, каждый раз, когда получается так, что мы вышли, возвращаемся обратно и уменьшаем шаг в 2 раза, пока не останемся в области положительных значений."
   ]
  },
  {
   "cell_type": "code",
   "execution_count": 4,
   "metadata": {
    "collapsed": false
   },
   "outputs": [],
   "source": [
    "epsilon = 0.001\n",
    "k_max = 10000\n",
    "\n",
    "def get_F(A, b, c, x, x_s, y, y_s, mu):\n",
    "    n = len(x)\n",
    "    m = len(y)\n",
    "    parts = [\n",
    "        x * A.T + x_s - b,\n",
    "        y * A - y_s - c,\n",
    "        numpy.matrix(numpy.ones([1, n])) * numpy.diag(x) * numpy.diag(y_s) - mu * numpy.ones([1, n]),\n",
    "        numpy.matrix(numpy.ones([1, m])) * numpy.diag(y) * numpy.diag(x_s) - mu * numpy.ones([1, m])\n",
    "    ]\n",
    "    return numpy.array(numpy.concatenate(parts, 1))[0]\n",
    "\n",
    "def solve(A, b, c, mu):\n",
    "    step = 1\n",
    "\n",
    "    m = A.shape[0]\n",
    "    n = A.shape[1]\n",
    "    # X = (x, x_s, y, y_s)\n",
    "    X = numpy.array([1 for i in range(2 * n + 2 * m)])\n",
    "\n",
    "    while True:\n",
    "        x = numpy.array(X[:n])\n",
    "        x_s = numpy.array(X[n : n + m])\n",
    "        y = numpy.array(X[n + m : n + 2 * m])\n",
    "        y_s = numpy.array(X[n + 2 * m:])\n",
    "\n",
    "        X_old = X.copy()\n",
    "        X = numpy.array(X - step * get_F(A, b, c, x, x_s, y, y_s, mu) * jacobian(A, x, x_s, y, y_s).I.T)[0]\n",
    "\n",
    "        while has_negative(X):\n",
    "            step /= 2\n",
    "            X = X_old.copy()\n",
    "            X = numpy.array(X - step * get_F(A, b, c, x, x_s, y, y_s, mu) * jacobian(A, x, x_s, y, y_s).I.T)[0]\n",
    "\n",
    "        if linalg.norm(X - X_old, 2) < epsilon:\n",
    "            break\n",
    "    return X\n",
    "\n",
    "def find_x(A, b, c):\n",
    "    mu = 1\n",
    "    try:\n",
    "        answer = solve(A, b, c, mu)\n",
    "    except:\n",
    "        print(\"Can't solve en equation. Еhe problem is non limited.\")\n",
    "        return\n",
    "\n",
    "    result_x = [answer[0]]\n",
    "    result_y = [answer[1]]\n",
    "    for k in range(k_max):\n",
    "        previous = answer.copy()\n",
    "        mu /= 10\n",
    "        try:\n",
    "            answer = solve(A, b, c, mu)\n",
    "        except:\n",
    "            print(\"Can't solve en equation. Еhe problem is non limited.\")\n",
    "            return\n",
    "        result_x.append(answer[0])\n",
    "        result_y.append(answer[1])\n",
    "\n",
    "        if linalg.norm(previous - answer, 2) < epsilon:\n",
    "            break\n",
    "    return result_x, result_y"
   ]
  },
  {
   "cell_type": "markdown",
   "metadata": {},
   "source": [
    "Для тестирования взята задача ЛП со следующими параметрами:\n",
    "\n",
    "$$\n",
    "A=\\begin{pmatrix}\n",
    "1&0\\\\\n",
    "-1&0\\\\\n",
    "0&1\\\\\n",
    "0&-1\\\\\n",
    "1&1\n",
    "\\end{pmatrix}\n",
    "$$\n",
    "\n",
    "$$\n",
    "b=\\begin{pmatrix}\n",
    "10\\\\\n",
    "5\\\\\n",
    "5\\\\\n",
    "10\\\\\n",
    "18\n",
    "\\end{pmatrix}\n",
    "$$\n",
    "\n",
    "$$\n",
    "b=\\begin{pmatrix}\n",
    "2\\\\\n",
    "1\n",
    "\\end{pmatrix}\n",
    "$$"
   ]
  },
  {
   "cell_type": "code",
   "execution_count": 5,
   "metadata": {
    "collapsed": true
   },
   "outputs": [],
   "source": [
    "A = numpy.matrix([[1, 0], [-1, 0], [0, 1], [0, -1], [1, 1]])\n",
    "b = numpy.array([10, 5, 10, 5, 18])\n",
    "c = numpy.array([2, 1])"
   ]
  },
  {
   "cell_type": "code",
   "execution_count": 6,
   "metadata": {
    "collapsed": false
   },
   "outputs": [],
   "source": [
    "x, y = find_x(A, b, c)"
   ]
  },
  {
   "cell_type": "code",
   "execution_count": 7,
   "metadata": {
    "collapsed": false
   },
   "outputs": [
    {
     "data": {
      "text/plain": [
       "(4, 11)"
      ]
     },
     "execution_count": 7,
     "metadata": {},
     "output_type": "execute_result"
    },
    {
     "data": {
      "image/png": "[encoded data removed]",
      "text/plain": [
       "<matplotlib.figure.Figure at 0x7f6dc50da4a8>"
      ]
     },
     "metadata": {},
     "output_type": "display_data"
    }
   ],
   "source": [
    "plot.plot([5, 10], [5, 5], color=\"blue\")\n",
    "plot.plot([5, 5], [5, 10], color=\"blue\")\n",
    "plot.plot([5, 8], [10, 10], color=\"blue\")\n",
    "plot.plot([10, 10], [5, 8], color=\"blue\")\n",
    "plot.plot([8, 10], [10, 8], color=\"blue\")\n",
    "plot.scatter(x, y, color=\"green\")\n",
    "plot.scatter([10], [8], color=\"red\")\n",
    "axis = plot.gca()\n",
    "axis.set_ylim(4, 11)\n",
    "axis.set_xlim(4, 11)"
   ]
  },
  {
   "cell_type": "markdown",
   "metadata": {},
   "source": [
    "На рисунке допустимая область обведена в синюю рамку. Оптимальная точка омечена красным цветом, а точки, по которым алгоритм приближался к решению - зеленым. Алгорим сработал успешно и сошелся к правильному ответу.\n",
    "\n",
    "Условием, по которому можно детектировать неограниченность задачи ЛП является остуствие решения у уравнения $F(x, x_s, y, y_s)=0$\n",
    "\n",
    "Рассмотрим неограниченую задачу и убедимся, что таким образом можно отловить неограниченность задачи. Допустимая область изображена на рисунке.\n",
    "\n",
    "$$\n",
    "A=\\begin{pmatrix}\n",
    "-1&0\\\\\n",
    "0&-1\n",
    "\\end{pmatrix}\n",
    "$$\n",
    "\n",
    "$$\n",
    "b=\\begin{pmatrix}\n",
    "10\\\\\n",
    "10\n",
    "\\end{pmatrix}\n",
    "$$\n",
    "\n",
    "$$\n",
    "b=\\begin{pmatrix}\n",
    "2\\\\\n",
    "1\n",
    "\\end{pmatrix}\n",
    "$$"
   ]
  },
  {
   "cell_type": "code",
   "execution_count": 8,
   "metadata": {
    "collapsed": true
   },
   "outputs": [],
   "source": [
    "bad_A = numpy.matrix([[-1, 0], [0, -1]])\n",
    "bad_b = numpy.array([10, 10])\n",
    "bad_c = numpy.array([2, 1])"
   ]
  },
  {
   "cell_type": "code",
   "execution_count": 9,
   "metadata": {
    "collapsed": false,
    "scrolled": false
   },
   "outputs": [
    {
     "data": {
      "text/plain": [
       "(4, 11)"
      ]
     },
     "execution_count": 9,
     "metadata": {},
     "output_type": "execute_result"
    },
    {
     "data": {
      "image/png": "[encoded data removed]",
      "text/plain": [
       "<matplotlib.figure.Figure at 0x7f6dc50dea58>"
      ]
     },
     "metadata": {},
     "output_type": "display_data"
    }
   ],
   "source": [
    "plot.plot([5, 11], [5, 5], color=\"blue\")\n",
    "plot.plot([5, 5], [5, 11], color=\"blue\")\n",
    "axis = plot.gca()\n",
    "axis.set_ylim(4, 11)\n",
    "axis.set_xlim(4, 11)"
   ]
  },
  {
   "cell_type": "code",
   "execution_count": 10,
   "metadata": {
    "collapsed": false
   },
   "outputs": [
    {
     "name": "stdout",
     "output_type": "stream",
     "text": [
      "Can't solve en equation. Еhe problem is non limited.\n"
     ]
    }
   ],
   "source": [
    "result = find_x(bad_A, bad_b, bad_c)"
   ]
  },
  {
   "cell_type": "markdown",
   "metadata": {},
   "source": [
    "Алгоритм отловил неограниченность."
   ]
  }
 ],
 "metadata": {
  "anaconda-cloud": {},
  "kernelspec": {
   "display_name": "Python [Root]",
   "language": "python",
   "name": "Python [Root]"
  },
  "language_info": {
   "codemirror_mode": {
    "name": "ipython",
    "version": 3
   },
   "file_extension": ".py",
   "mimetype": "text/x-python",
   "name": "python",
   "nbconvert_exporter": "python",
   "pygments_lexer": "ipython3",
   "version": "3.5.2"
  }
 },
 "nbformat": 4,
 "nbformat_minor": 0
}
